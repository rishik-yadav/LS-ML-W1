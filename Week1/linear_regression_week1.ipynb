{
  "nbformat": 4,
  "nbformat_minor": 0,
  "metadata": {
    "colab": {
      "provenance": []
    },
    "kernelspec": {
      "name": "python3",
      "display_name": "Python 3"
    },
    "language_info": {
      "name": "python"
    }
  },
  "cells": [
    {
      "cell_type": "code",
      "execution_count": 39,
      "metadata": {
        "id": "-zTLHrFCT6KY",
        "colab": {
          "base_uri": "https://localhost:8080/"
        },
        "outputId": "09b90858-44c4-46ed-a655-cfda8fc78522"
      },
      "outputs": [
        {
          "output_type": "stream",
          "name": "stdout",
          "text": [
            "Drive already mounted at /content/drive; to attempt to forcibly remount, call drive.mount(\"/content/drive\", force_remount=True).\n"
          ]
        }
      ],
      "source": [
        "import numpy as np\n",
        "import pandas as pd\n",
        "import matplotlib.pyplot as plt\n",
        "import copy\n",
        "from google.colab import drive\n",
        "drive.mount('/content/drive')\n",
        "\n",
        "# Aim is to predict the marks of students of the test data"
      ]
    },
    {
      "cell_type": "code",
      "source": [
        "# Use the file namd 'training data' to train the model\n",
        "\n",
        "data = pd.read_excel('/content/drive/MyDrive/Colab Notebooks/Training data.xlsx')\n",
        "x_train = np.array(data.iloc[:,0:8])\n",
        "y_train = np.array(data.iloc[:,8]).reshape(-1,1)\n",
        "\n",
        "# Try plotting y_train with different features\n",
        "# To get an idea whether to add some features or not\n",
        "# Add some features if required in x_train\n",
        "\n",
        "# Also do label encoding for features not represented in numbers\n",
        "# refer the link if not know : https://youtu.be/589nCGeWG1w?si=t2Wa7LgbUOO4RooM\n",
        "\n",
        "def feature_changing(x_train):\n",
        "  new_feature = x_train[:,3] / x_train[:,4]\n",
        "  x_train = np.concatenate((x_train,new_feature.reshape(-1,1)),axis=1)\n",
        "  return x_train\n",
        "\n",
        "x_train = feature_changing(x_train)"
      ],
      "metadata": {
        "id": "p0KHq8ZgTpU4"
      },
      "execution_count": 65,
      "outputs": []
    },
    {
      "cell_type": "code",
      "source": [
        "def z_score(x_train):\n",
        "\n",
        "  x_mean = np.mean(x_train,axis=0)\n",
        "  x_std = np.std(x_train,axis=0)\n",
        "\n",
        "  x_train = (x_train - x_mean)/x_std\n",
        "\n",
        "\n",
        "  return x_train,x_std,x_mean"
      ],
      "metadata": {
        "id": "tYshvtYlVour"
      },
      "execution_count": 47,
      "outputs": []
    },
    {
      "cell_type": "code",
      "source": [
        "def cost(x_train,y_train,w,b):\n",
        "\n",
        "    m = x_train.shape[0]\n",
        "    loss = 0.0\n",
        "    for i in range(m):\n",
        "        f_wb = np.dot(x_train[i],w) + b\n",
        "        loss += (f_wb - y_train[i])**2\n",
        "    loss = loss/(2*m)\n",
        "\n",
        "    return loss"
      ],
      "metadata": {
        "id": "O5dOwbNbWJWa"
      },
      "execution_count": 42,
      "outputs": []
    },
    {
      "cell_type": "code",
      "source": [
        "def compute_gradient(x_train,y_train,w,b):\n",
        "\n",
        "    m,n = x_train.shape\n",
        "    grad_w = np.zeros((n,1))\n",
        "    grad_b = 0.0\n",
        "    for i in range(m):\n",
        "        err = (np.dot(x_train[i],w) + b) - y_train[i]\n",
        "        for j in range(n):\n",
        "            grad_w[j] += err * x_train[i,j]\n",
        "        grad_b += err\n",
        "\n",
        "    grad_w = grad_w/m\n",
        "    grad_b = grad_b/m\n",
        "\n",
        "    return grad_w,grad_b\n",
        "\n",
        "\n"
      ],
      "metadata": {
        "id": "73ZHk4aEYggZ"
      },
      "execution_count": 43,
      "outputs": []
    },
    {
      "cell_type": "code",
      "source": [
        "def gradient_descent(x_train,y_train,w,b):\n",
        "  w = copy.deepcopy(w)\n",
        "  b = b\n",
        "  alpha = 0.05\n",
        "  for i in range(100):\n",
        "    grad_w,grad_b = compute_gradient(x_train,y_train,w,b)\n",
        "    w = w - alpha*grad_w\n",
        "    b = b - alpha*grad_b\n",
        "\n",
        "\n",
        "\n",
        "  return w,b"
      ],
      "metadata": {
        "id": "hW8p2cTNU74W"
      },
      "execution_count": 55,
      "outputs": []
    },
    {
      "cell_type": "code",
      "source": [
        "x_train = x_train.astype(np.float64)\n",
        "x_train,x_std,x_mean = z_score(x_train)\n",
        "\n",
        "np.random.seed(2147483647)\n",
        "w = np.random.randn(x_train.shape[1],1)\n",
        "b = np.random.randn(1)\n",
        "\n",
        "old_cost = 0\n",
        "\n",
        "\n",
        "while abs(old_cost - cost(x_train,y_train,w,b))>0.00001:\n",
        "  old_cost = cost(x_train,y_train,w,b)\n",
        "  w,b = gradient_descent(x_train,y_train,w,b)\n",
        "\n",
        "\n",
        "x_predict = pd.read_excel('/content/drive/MyDrive/Colab Notebooks/Test data.xlsx').iloc[:,:8].to_numpy()\n",
        "x_predict = feature_changing(x_predict)\n",
        "x_predict = (x_predict - x_mean)/x_std\n",
        "ans = pd.read_excel('/content/drive/MyDrive/Colab Notebooks/Test data.xlsx').iloc[:,8].to_numpy()\n",
        "\n",
        "y_predict = np.dot(x_predict,w) + b\n",
        "\n",
        "accuracy = 0\n",
        "for dim in range(len(ans)):\n",
        "  if abs(y_predict[dim]-ans[dim])<0.5: # do not change the tolerance as you'll be checked on +- 0.5 error only\n",
        "    accuracy += 1\n",
        "accuracy = round(accuracy*100/200.0,2)\n",
        "ok = 'Congratulations' if accuracy>95 else 'Optimization required'\n",
        "print(f\"{ok}, your accuracy is {accuracy}%\")"
      ],
      "metadata": {
        "id": "Kl-fioJ5WkYn",
        "colab": {
          "base_uri": "https://localhost:8080/"
        },
        "outputId": "21b1f81b-59c2-44a8-b79f-fa26c21c50ca"
      },
      "execution_count": 66,
      "outputs": [
        {
          "output_type": "stream",
          "name": "stdout",
          "text": [
            "Congratulations, your accuracy is 100.0%\n"
          ]
        }
      ]
    }
  ]
}