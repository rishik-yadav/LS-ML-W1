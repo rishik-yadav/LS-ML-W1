{
  "nbformat": 4,
  "nbformat_minor": 0,
  "metadata": {
    "colab": {
      "provenance": []
    },
    "kernelspec": {
      "name": "python3",
      "display_name": "Python 3"
    },
    "language_info": {
      "name": "python"
    }
  },
  "cells": [
    {
      "cell_type": "markdown",
      "source": [
        "# Numpy Implementation"
      ],
      "metadata": {
        "id": "nKMH5Y1T06vH"
      }
    },
    {
      "cell_type": "code",
      "execution_count": null,
      "metadata": {
        "colab": {
          "base_uri": "https://localhost:8080/"
        },
        "id": "MM8X0T-p06HB",
        "outputId": "19f5b704-b40d-4964-fd2b-7d43d0e163b1"
      },
      "outputs": [
        {
          "output_type": "stream",
          "name": "stdout",
          "text": [
            "Passed\n"
          ]
        }
      ],
      "source": [
        "import numpy as np\n",
        "# Create a 2D Numpy array of size 1x3 with elements of your choice\n",
        "arr1=np.array([[11,22,33]])\n",
        "\n",
        "# Create a Numpy array of length 50 with zeroes as its elements\n",
        "arr2=np.zeros(50)\n",
        "\n",
        "#Create a Numpy array of length 3x2 with elements of your choice\n",
        "arr3=np.array([[1,2],[3,4],[5,6]])\n",
        "\n",
        "arr4= np.array([[(np.sum(arr1[0,:]*arr3[:,0])),(np.sum(arr1[0,:]*arr3[:,1]))]])\n",
        "#Change 5th element of arr2 to a different number\n",
        "#Your code here\n",
        "arr2[4]=5\n",
        "\n",
        "if np.shape(arr4)==(1,2) and arr2[4]!=0:\n",
        "  print(\"Passed\")\n",
        "else:\n",
        "  print(\"Fail\")"
      ]
    },
    {
      "cell_type": "code",
      "source": [
        "import numpy as np\n",
        "\n",
        "#Task: Perform the dot product of I and 9I+1 using numpy, here I is referred to as an 3x3 Identity matrix.\n",
        "I = np.eye(3)\n",
        "I_dot_9I1 = np.dot(I,9*I+1)\n",
        "print(I_dot_9I1)\n"
      ],
      "metadata": {
        "id": "KNTXZFd13rgE",
        "colab": {
          "base_uri": "https://localhost:8080/"
        },
        "outputId": "42120be6-1b08-4ada-b64a-106de82cb0cf"
      },
      "execution_count": null,
      "outputs": [
        {
          "output_type": "stream",
          "name": "stdout",
          "text": [
            "[[10.  1.  1.]\n",
            " [ 1. 10.  1.]\n",
            " [ 1.  1. 10.]]\n"
          ]
        }
      ]
    },
    {
      "cell_type": "markdown",
      "source": [
        "# Pandas Implementation"
      ],
      "metadata": {
        "id": "rRrOxN-6FXAb"
      }
    },
    {
      "cell_type": "code",
      "source": [
        "import pandas as pd\n",
        "\n",
        "## Create a DataFrame from a dictionary\n",
        "data = {\n",
        "    'Name': ['Ramesh', 'Mahesh', 'Suresh'],\n",
        "    'Age': [25, 30, 35],\n",
        "    'City': ['Bangalore', 'Mumbai', 'Delhi']\n",
        "}\n",
        "df1 = pd.DataFrame(data)\n",
        "\n",
        "#Display the first 2 rows of the data frame\n",
        "print(df1.loc[[0,1]])\n",
        "\n",
        "#Print the age column\n",
        "print(df1['Age'])\n",
        "\n",
        "#Filter rows where age is greater than 26\n",
        "print(df1[df1['Age']>26])\n",
        "\n",
        "#Add a new column 'Country' with the value 'India' for all rows\n",
        "df1['Country']='India'\n",
        "\n",
        "data1 = {\n",
        "    'Name': ['Ramesh', 'Mahesh', 'Suresh'],\n",
        "    'Age': [25, None, 35],\n",
        "    'City': ['Bangalore', 'Mumbai', 'Delhi']\n",
        "}\n",
        "\n",
        "df2= pd.DataFrame(data1)\n",
        "\n",
        "# Fill missing values in the 'Age' column with the mean age\n",
        "df2['Age'].fillna(df2['Age'].mean(), inplace=True)\n",
        "\n",
        "# Print the updated DataFrame\n",
        "print(df2)"
      ],
      "metadata": {
        "id": "EaoIVtKIFenB",
        "colab": {
          "base_uri": "https://localhost:8080/"
        },
        "outputId": "5344f36a-9446-4f96-eade-6da27f281de6"
      },
      "execution_count": null,
      "outputs": [
        {
          "output_type": "stream",
          "name": "stdout",
          "text": [
            "     Name  Age       City\n",
            "0  Ramesh   25  Bangalore\n",
            "1  Mahesh   30     Mumbai\n",
            "0    25\n",
            "1    30\n",
            "2    35\n",
            "Name: Age, dtype: int64\n",
            "     Name  Age    City\n",
            "1  Mahesh   30  Mumbai\n",
            "2  Suresh   35   Delhi\n",
            "     Name   Age       City\n",
            "0  Ramesh  25.0  Bangalore\n",
            "1  Mahesh  30.0     Mumbai\n",
            "2  Suresh  35.0      Delhi\n"
          ]
        }
      ]
    },
    {
      "cell_type": "markdown",
      "source": [
        "# Matplotlib Implementation"
      ],
      "metadata": {
        "id": "uay3H4C8cboE"
      }
    },
    {
      "cell_type": "code",
      "source": [
        "import matplotlib.pyplot as plt\n",
        "import numpy as np\n",
        "\n",
        "\n",
        "\n",
        "xpoints=np.array([1,2,3,4])\n",
        "ypoints=np.array([2,4,6,8])\n",
        "\n",
        "#Plot these points without drawing a line\n",
        "plt.scatter(xpoints, ypoints)\n",
        "plt.show()\n",
        "\n",
        "#Plotting with marker: Plot these points with a marker(Star marker)\n",
        "plt.scatter(xpoints, ypoints, marker='*')\n",
        "plt.show()\n",
        "\n",
        "#Using fmt format, add circular marker,red color and Dashed line\n",
        "plt.scatter(xpoints, ypoints, marker='o', c='r', linestyle='--')\n",
        "plt.show()\n",
        "\n",
        "#Add xlabel,ylabel and title for the plot.\n",
        "plt.xlabel('X Axis')\n",
        "plt.ylabel('Y Axis')\n",
        "plt.title('Plot y=2x')\n",
        "\n",
        "#Create a scatter plot for xpoints and ypoints\n",
        "colors = ['blue', 'green', 'red', 'yellow']\n",
        "plt.scatter(xpoints, ypoints,c=colors)\n",
        "plt.show()\n",
        "\n",
        "#Set color to the scatter plot. Blue,Green,Red and yellow color for each point respectively\n"
      ],
      "metadata": {
        "colab": {
          "base_uri": "https://localhost:8080/",
          "height": 1000
        },
        "id": "i4lccqVxcgE_",
        "outputId": "50d69510-d581-4682-dfae-9d29207732ea"
      },
      "execution_count": null,
      "outputs": [
        {
          "output_type": "display_data",
          "data": {
            "text/plain": [
              "<Figure size 640x480 with 1 Axes>"
            ],
            "image/png": "[encoded data removed]"
          },
          "metadata": {}
        },
        {
          "output_type": "display_data",
          "data": {
            "text/plain": [
              "<Figure size 640x480 with 1 Axes>"
            ],
            "image/png": "[encoded data removed]"
          },
          "metadata": {}
        },
        {
          "output_type": "display_data",
          "data": {
            "text/plain": [
              "<Figure size 640x480 with 1 Axes>"
            ],
            "image/png": "[encoded data removed]"
          },
          "metadata": {}
        },
        {
          "output_type": "display_data",
          "data": {
            "text/plain": [
              "<Figure size 640x480 with 1 Axes>"
            ],
            "image/png": "[encoded data removed]"
          },
          "metadata": {}
        }
      ]
    },
    {
      "cell_type": "markdown",
      "source": [
        "# Miscellaneous Modules Implementation"
      ],
      "metadata": {
        "id": "pfe2Fv2tgKq5"
      }
    },
    {
      "cell_type": "code",
      "source": [],
      "metadata": {
        "id": "uwET4NZGSCru"
      },
      "execution_count": null,
      "outputs": []
    },
    {
      "cell_type": "code",
      "source": [
        "import random\n",
        "import numpy as np\n",
        "\n",
        "#Set the seed of random to 20\n",
        "random.seed(20)\n",
        "\n",
        "arr1=np.array([1,24,31,45,73,81,94,25])\n",
        "\n",
        "#Using the random module pick 4 different random numbers from arr1 and return their sum\n",
        "s = sum(random.sample(list(arr1), 4))\n",
        "print(s)"
      ],
      "metadata": {
        "id": "a_bTz2PlgRah",
        "colab": {
          "base_uri": "https://localhost:8080/"
        },
        "outputId": "03aa6ca9-96a9-4104-e124-131fc509b748"
      },
      "execution_count": null,
      "outputs": [
        {
          "output_type": "stream",
          "name": "stdout",
          "text": [
            "138\n"
          ]
        }
      ]
    }
  ]
}